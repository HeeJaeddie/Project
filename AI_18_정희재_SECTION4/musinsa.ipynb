{
 "cells": [
  {
   "cell_type": "code",
   "execution_count": 5,
   "metadata": {},
   "outputs": [],
   "source": [
    "import pandas as pd"
   ]
  },
  {
   "cell_type": "code",
   "execution_count": 6,
   "metadata": {},
   "outputs": [],
   "source": [
    "# 데이터 정리\n",
    "data = {\n",
    "    'AGE': ['Under 10', '10 to 19', '20 to 29', '30 to 39', '40 to 49', 'Over 50', 'Not specified'],\n",
    "    'AMERICAN CASUAL': [102, 1, 58, 1325, 160, 5, 357],\n",
    "    'CASUAL': [50, 2086, 19722, 1119, 58, 26, 5101],\n",
    "    'CHIC': [0, 122, 608, 39, 0, 0, 78],\n",
    "    'DANDY': [0, 16, 178, 13, 1, 3, 11],\n",
    "    'FORMAL': [1, 42, 964, 186, 30, 34, 560],\n",
    "    'GIRLISH': [9, 488, 3494, 133, 3, 4, 898],\n",
    "    'RETRO': [0, 4, 93, 12, 0, 0, 23],\n",
    "    'ROMANTIC': [0, 70, 723, 43, 0, 0, 310],\n",
    "    'STREET': [41, 1913, 15629, 1041, 42, 34, 4692]\n",
    "}\n",
    "\n",
    "df = pd.DataFrame(data)\n",
    "df = df.melt(id_vars=['AGE'], var_name='CATEGORY', value_name='COUNT')"
   ]
  },
  {
   "cell_type": "code",
   "execution_count": 7,
   "metadata": {},
   "outputs": [],
   "source": [
    "# CSV 파일로 내보내기\n",
    "df.to_csv('musinsa_snap_data.csv', index=False)"
   ]
  }
 ],
 "metadata": {
  "kernelspec": {
   "display_name": "s1n1",
   "language": "python",
   "name": "python3"
  },
  "language_info": {
   "codemirror_mode": {
    "name": "ipython",
    "version": 3
   },
   "file_extension": ".py",
   "mimetype": "text/x-python",
   "name": "python",
   "nbconvert_exporter": "python",
   "pygments_lexer": "ipython3",
   "version": "3.8.16"
  },
  "orig_nbformat": 4
 },
 "nbformat": 4,
 "nbformat_minor": 2
}
